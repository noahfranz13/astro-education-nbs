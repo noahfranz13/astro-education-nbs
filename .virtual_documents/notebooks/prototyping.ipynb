import matplotlib.pyplot as plt
import numpy as np 
from matplotlib.patches import Ellipse, Rectangle




















#idea for an interface to set labels -- use dicts so that things are clear
#we then process them in the background
labels = {
    "upper-left":   "label1",
    "upper-right":  "label2", 
    "lower-left":   "label3", 
    "lower-right":  "label4"
    }

labels1 = {
    "upper-left":   "bluer, brighter",
    "upper-right":  "redder, brighter", 
    "lower-left":   "bluer, dimmer", 
    "lower-right":  "redder, dimmer"
    }

labels2 = {
    "upper-left":   "hotter, higher mass",
    "upper-right":  "colder, higher mass", 
    "lower-left":   "hotter, lower mass", 
    "lower-right":  "colder, lower mass"
    }




def plot_labels_cmd(labels):
    fig  = plt.figure()
    plt.xlabel('B-V')
    plt.ylabel('B [mag]')
    plt.xlim([-4,4])
    plt.ylim([8,20])

    for k, v in labels.items():
        if k == 'upper-left':
            plt.text(0.2, 0.8, v, transform=fig.transFigure)
        elif k == 'upper-right':
            plt.text(0.7, 0.8, v, transform=fig.transFigure)
        elif k == 'lower-left':
            plt.text(0.2, 0.2, v, transform=fig.transFigure)
        elif k == 'lower-right':
            plt.text(0.7, 0.2, v, transform=fig.transFigure)


    plt.show()
    plt.close()

def plot_labels_physical(labels):
    fig  = plt.figure()
    plt.xlabel('B-V')
    plt.ylabel('B [mag]')
    plt.xlim([-4,4])
    plt.ylim([8,20])

    for k, v in labels.items():
        if k == 'upper-left':
            plt.text(0.2, 0.8, v, transform=fig.transFigure)
        elif k == 'upper-right':
            plt.text(0.65, 0.8, v, transform=fig.transFigure)
        elif k == 'lower-left':
            plt.text(0.2, 0.2, v, transform=fig.transFigure)
        elif k == 'lower-right':
            plt.text(0.65, 0.2, v, transform=fig.transFigure)


    plt.show()
    plt.close()


def plot_labels_stars(labels):
    fig  = plt.figure()
    plt.xlabel('B-V')
    plt.ylabel('B [mag]')
    plt.xlim([-4,4])
    plt.ylim([8,20])

    for k, v in labels.items():
        if k == 'upper-left':
            plt.text(0.2, 0.8, v, transform=fig.transFigure)
        elif k == 'upper-right':
            plt.text(0.65, 0.8, v, transform=fig.transFigure)
        elif k == 'lower-left':
            plt.text(0.2, 0.2, v, transform=fig.transFigure)
        elif k == 'lower-right':
            plt.text(0.65, 0.2, v, transform=fig.transFigure)


    plt.show()
    plt.close()


plot_labels_cmd(labels1)

plot_labels_physical(labels2)








from util import read_isochrone_files



isochrones = read_isochrone_files('../isochrones')


print(isochrones[0]['age'])


fig, ax = plt.subplots()

ax.set_xlabel('G-R')
ax.set_ylabel('G [mag]')
ax.set_xlim([0,1.5])
ax.set_ylim([-4,15])


def label_turnoff(x,y,label,color='red'):
    ax.text(x+0.2, y+0.3, label)
    ax.plot([x,x+0.2], [y,y+0.3], 'k-')
    ms_ellipse = Ellipse(xy=(x, y), width=0.2, height=2.5, angle=0, fc='none', ec=color)
    ax.add_artist(ms_ellipse)


label_turnoff(0.3,5,'turnoff', color='black')
label_turnoff(0.7,0,'MS', color='red')
label_turnoff(1,10,'AGB', color='blue')
label_turnoff(0.1,-2,'WD', color='blue')

ax.plot(isochrones[-1]['g'].astype(float)-isochrones[-1]['r'].astype(float), isochrones[-1]['g'].astype(float))

plt.show()




fig, ax = plt.subplots()

ax.set_xlabel('G-R')
ax.set_ylabel('G [mag]')
ax.set_xlim([0,1.5])
ax.set_ylim([-4,15])


def label_turnoff(x,y,label,color='red'):
    ax.text(x+0.2, y+0.3, label)
    ax.plot([x,x+0.2], [y,y+0.3], 'k-')
    ms_ellipse = Ellipse(xy=(x, y), width=0.2, height=2.5, angle=0, fc='none', ec=color)
    ax.add_artist(ms_ellipse)


label_turnoff(0.3,5,'turnoff', color='black')
label_turnoff(0.7,0,'MS', color='red')
label_turnoff(1,10,'AGB', color='blue')
label_turnoff(0.1,-2,'WD', color='blue')

ax.plot()

plt.show()

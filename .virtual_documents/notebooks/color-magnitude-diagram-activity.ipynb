


# Import useful software for this workbook
import os
from urllib.request import urlopen
import matplotlib.pyplot as plt
import numpy as np 
import pandas as pd
from astropy.coordinates import SkyCoord
from astropy import units as u
from matplotlib.patches import Ellipse, Rectangle

#############################################################################################################################
######################################### Download and install some Software/Code ###########################################
#############################################################################################################################
data_urls = [
    "https://raw.githubusercontent.com/noahfranz13/astro-education-nbs/refs/heads/main/notebooks/util.py", # useful code
    "https://raw.githubusercontent.com/noahfranz13/astro-education-nbs/refs/heads/main/data/gaia_cone_search_results.csv", # Gaia results
    "https://github.com/noahfranz13/astro-education-nbs/raw/refs/heads/main/data/isochrones.pkl.zip" # isochrone data
]

for url in data_urls:
    
    # derive the filename from the url
    filename = os.path.join(os.getcwd(), url.split("/")[-1])
    if os.path.exists(filename): continue

    # request the data from that url and write it to a file
    res = urlopen(url)
    with open(filename, "wb") as f:
        f.write(res.read())

try:
    from util import *
except ImportError as exc:
    raise Exception("Please make sure you run the above cell to download all of the other code and data!") from exc
#############################################################################################################################


















#idea for an interface to set labels -- use dicts so that things are clear
#we then process them in the background
labels = {
    "upper-left":   "label1",
    "upper-right":  "label2", 
    "lower-left":   "label3", 
    "lower-right":  "label4"
    }

labels1 = {
    "upper-left":   "bluer, brighter",
    "upper-right":  "redder, brighter", 
    "lower-left":   "bluer, dimmer", 
    "lower-right":  "redder, dimmer"
    }

labels2 = {
    "upper-left":   "hotter, higher mass",
    "upper-right":  "colder, higher mass", 
    "lower-left":   "hotter, lower mass", 
    "lower-right":  "colder, lower mass"
    }




plot_labels_cmd(labels1)

plot_labels_physical(labels2)


fig, ax = plt.subplots()

ax.set_xlabel('B-V')
ax.set_ylabel('B [mag]')
ax.set_xlim([-4,4])
ax.set_ylim([8,20])

ms_ellipse = Ellipse(xy=(0, 13), width=2, height=7, angle=30, fc='none', ec='r')
ax.add_artist(ms_ellipse)

asb_ellipse = Ellipse(xy=(2, 18), width=2, height=2, angle=0, fc='none', ec='blue')
ax.add_artist(asb_ellipse)

wd_ellipse = Ellipse(xy=(-3, 10), width=1, height=2, angle=0, fc='none', ec='green')
ax.add_artist(wd_ellipse)

label_turnoff(-1.5,17)

plt.show()









isochrones = read_isochrone_files(os.path.join(os.getcwd(), "isochrones.pkl.zip"))


fig, ax = plt.subplots()

ax.set_xlabel('G-R')
ax.set_ylabel('G [mag]')

ax.set_xlim(0,1.5)
ax.set_ylim(-4,15)

def label_turnoff(x,y,label,color='red'):
    ax.text(x+0.2, y+0.3, label)
    ax.plot([x,x+0.2], [y,y+0.3], 'k-')
    ms_ellipse = Ellipse(xy=(x, y), width=0.2, height=2.5, angle=0, fc='none', ec=color)
    ax.add_artist(ms_ellipse)


label_turnoff(0.3,5,'turnoff', color='black')
label_turnoff(0.7,0,'MS', color='red')
label_turnoff(1,10,'AGB', color='blue')
label_turnoff(0.1,-2,'WD', color='blue')




ax.plot(isochrones[-1]['g'].astype(float)-isochrones[-1]['r'].astype(float), isochrones[-1]['g'].astype(float))
plt.show()





fig, ax = plt.subplots()

ax.set_xlabel('G-R')
ax.set_ylabel('G [mag]')

ax.set_xlim(0,1.5)
ax.set_ylim(10,15)

def label_turnoff(x,y,label,color='red', width=0.2, height=2.5, **kwargs):
    ax.text(x+0.2, y+0.3, label)
    ax.plot([x,x+0.2], [y,y+0.3], 'k-')
    ms_ellipse = Ellipse(xy=(x, y), fc='none', width=width, height=height, ec=color, **kwargs)
    ax.add_artist(ms_ellipse)


label_turnoff(0.75,12.4,'turnoff', width=0.1, height=0.8,color='black')
label_turnoff(0.75,13.5,'MS', color='red', angle=-10)
label_turnoff(1.2,11.5,'RGB', angle=5, color='blue')
label_turnoff(0.8,10.5,'AGB', width=1, height=1, angle=0, color='blue')
label_turnoff(0.1,14.5,'WD', color='blue')

res = cluster_filter()
ax.plot(
    res.phot_bp_mean_mag - res.phot_rp_mean_mag , 
    res.phot_g_mean_mag, 
    marker='.',
    linestyle='none',
    color='k'
)

ax.invert_yaxis()

plt.show()




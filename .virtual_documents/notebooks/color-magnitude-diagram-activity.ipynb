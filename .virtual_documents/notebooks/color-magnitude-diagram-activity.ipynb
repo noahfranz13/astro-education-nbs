


# Import useful software for this workbook
%load_ext autoreload
%autoreload 2
import os
from urllib.request import urlopen
import matplotlib.pyplot as plt
import numpy as np 
import pandas as pd
from astropy.coordinates import SkyCoord
from astropy import units as u
from matplotlib.patches import Ellipse, Rectangle

#############################################################################################################################
######################################### Download and install some Software/Code ###########################################
#############################################################################################################################
data_urls = [
    "https://raw.githubusercontent.com/noahfranz13/astro-education-nbs/refs/heads/main/notebooks/util.py", # useful code
    "https://raw.githubusercontent.com/noahfranz13/astro-education-nbs/refs/heads/main/data/gaia_cone_search_results.csv", # Gaia results
    "https://github.com/noahfranz13/astro-education-nbs/raw/refs/heads/main/data/isochrones.pkl.zip" # isochrone data
]

for url in data_urls:
    
    # derive the filename from the url
    filename = os.path.join(os.getcwd(), url.split("/")[-1])
    if os.path.exists(filename): continue

    # request the data from that url and write it to a file
    res = urlopen(url)
    with open(filename, "wb") as f:
        f.write(res.read())

try:
    from util import *
except ImportError as exc:
    raise Exception("Please make sure you run the above cell to download all of the other code and data!") from exc
#############################################################################################################################









# This is a python comment -- anything after a # is ignored by python
# In the below code, we use comments to explain what the lines of code do

# Define the labels
labels = {
    "upper-left":   "CHANGE ME",
    "upper-right":  "CHANGE ME", 
    "lower-left":   "CHANGE ME", 
    "lower-right":  "CHANGE ME"
    }

# Plot the labels on the CMD
fig = plot_labels_cmd(labels)
fig.gca().invert_yaxis()





# Define the labels
labels = {
    "upper-left":   "CHANGE ME",
    "upper-right":  "CHANGE ME", 
    "lower-left":   "CHANGE ME", 
    "lower-right":  "CHANGE ME"
    }

# Plot the labels on the CMD 
fig = plot_labels_physical(labels)
fig.gca().invert_yaxis()





# define the coordinate variable at the x and y position of the label
coordinate = (-0.1, 9.7)

# create the color-magnitude plot so that it draws below this cell
ax = show_cluster_data()

# now write a label on the color-magnitude plot.
write_label(*coordinate, "M67 Color-Magnitude Diagram", ax)





# Define the coordinates here
A_coordinate = ("X", "Y")
B_coordinate = ("X", "Y")
C_coordinate = ("X", "Y")
D_coordinate = ("X", "Y")
E_coordinate = ("X", "Y")

### CODE TO DISPLAY THE CLUSTER DATA AND COORDINATES
### DO NOT CHANGE BELOW THIS LINE
ax = show_cluster_data()
write_label(*A_coordinate, "A", ax)
write_label(*B_coordinate, "B", ax)
write_label(*C_coordinate, "C", ax)
write_label(*D_coordinate, "D", ax)
write_label(*E_coordinate, "E", ax)





A_coordinate = ("X", "Y")
B_coordinate = ("X", "Y")
C_coordinate = ("X", "Y")
D_coordinate = ("X", "Y")
E_coordinate = ("X", "Y")

### CODE TO DISPLAY THE CLUSTER DATA AND COORDINATES
### DO NOT CHANGE BELOW THIS LINE
ax = show_isochrone()
# ax.invert_yaxis()
write_label(*A_coordinate, "A", ax)
write_label(*B_coordinate, "B", ax)
write_label(*C_coordinate, "C", ax)
write_label(*D_coordinate, "D", ax)
write_label(*E_coordinate, "E", ax)








def delta_y(t, v0):
    return v0*t + (1/2) * 9.8 * np.power(t, 2)





@test(test_apparent_magnitude_function)
def apparent_magnitude(variable_0, variable_1):
    # 1) Change variable_0 and variable_1 to the inputs to the distance modulus function 
    #    (Think about what it needs to compute the apparent magnitude!)
    # 2) Fill in the math for the magnitude function after this return statement
    #    (which numpy function do you need for log base 10?)
    return 





# Call your apparent_magnitude function here to see what answer you get 
# and to fill in the above table

mag = apparent_magnitude(CHANGEME, CHANGEME)





ax = show_cluster_data()
ax = show_correct_isochrone(ax=ax)
ax = show_close_isochrone(ax=ax)
ax = show_old_isochrone(ax=ax)
ax.invert_yaxis()





show_cluster_data(
    cone_search_radius=2,
    minimum_radial_velocity=20.4, #km/s
    maximum_radial_velocity=47.6, #km/s
    minimum_parallax=1.03, 
    maximum_parallax=1.27,
    proper_motion_delta=0.7,
    proper_motion_ra=-11,
    proper_motion_dec=-2.9,
)





ax = show_cluster_data(
    cone_search_radius=2,
    minimum_radial_velocity=20.4, #km/s
    maximum_radial_velocity=47.6, #km/s
    minimum_parallax=1.03, 
    maximum_parallax=1.27,
    proper_motion_delta=0.7,
    proper_motion_ra=-11,
    proper_motion_dec=-2.9,
)

show_isochrone(
    age = 1, 
    distance = 400,
    ax = ax,
    color = 'red' # or whatever your favorite color is...
)







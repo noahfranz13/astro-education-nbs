


# Import useful software for this workbook
%load_ext autoreload
%autoreload 2
import os
from urllib.request import urlopen
import matplotlib.pyplot as plt
import numpy as np 
import pandas as pd
from astropy.coordinates import SkyCoord
from astropy import units as u
from matplotlib.patches import Ellipse, Rectangle

#############################################################################################################################
######################################### Download and install some Software/Code ###########################################
#############################################################################################################################
data_urls = [
    "https://raw.githubusercontent.com/noahfranz13/astro-education-nbs/refs/heads/main/notebooks/util.py", # useful code
    "https://raw.githubusercontent.com/noahfranz13/astro-education-nbs/refs/heads/main/data/gaia_cone_search_results.csv", # Gaia results
    "https://github.com/noahfranz13/astro-education-nbs/raw/refs/heads/main/data/isochrones.pkl.zip" # isochrone data
]

for url in data_urls:
    
    # derive the filename from the url
    filename = os.path.join(os.getcwd(), url.split("/")[-1])
    if os.path.exists(filename): continue

    # request the data from that url and write it to a file
    res = urlopen(url)
    with open(filename, "wb") as f:
        f.write(res.read())

try:
    from util import *
except ImportError as exc:
    raise Exception("Please make sure you run the above cell to download all of the other code and data!") from exc
#############################################################################################################################









# This is a python comment -- anything after a # is ignored by python
# In the below code, we use comments to explain what the lines of code do

# Define the labels
labels = {
    "upper-left":   "CHANGE ME",
    "upper-right":  "CHANGE ME", 
    "lower-left":   "CHANGE ME", 
    "lower-right":  "CHANGE ME"
    }

# Plot the labels on the CMD
fig = plot_labels_cmd(labels)
fig.gca().invert_yaxis()





# Define the labels
labels = {
    "upper-left":   "CHANGE ME",
    "upper-right":  "CHANGE ME", 
    "lower-left":   "CHANGE ME", 
    "lower-right":  "CHANGE ME"
    }

# Plot the labels on the CMD 
fig = plot_labels_physical(labels)
fig.gca().invert_yaxis()





# define the coordinate variable at the x and y position of the label
title_position = (-0.5, 15)

# create the color-magnitude plot so that it draws below this cell
ax = show_cluster_data()

# now write a label on the color-magnitude plot.
write_label(*title_position, "M67 Color-Magnitude Diagram", ax)





# Define the coordinates here
A_position = ("X", "Y")
B_position = ("X", "Y")
C_position = ("X", "Y")
D_position = ("X", "Y")
E_position = ("X", "Y")

### CODE TO DISPLAY THE CLUSTER DATA AND COORDINATES
### DO NOT CHANGE BELOW THIS LINE
ax = show_cluster_data()
write_label(*A_position, "A", ax)
write_label(*B_position, "B", ax)
write_label(*C_position, "C", ax)
write_label(*D_position, "D", ax)
write_label(*E_position, "E", ax)











@test(test_delta_y_function)
def delta_y(t, v0):
    return _*t - (_) * _ * np.power(t, _)






test_time()
@test(test_apparent_magnitude_function)
def m(variable_0, variable_1):
    # 1) Change variable_0 and variable_1 to the inputs to the distance modulus function 
    #    (Think about what it needs to compute the apparent magnitude!)
    # 2) Fill in the math for the apparent magnitude function after the word "return"
    #    (which numpy function do you need for log base 10?)
    # 3) Remember to use the "np." prefix when calling numpy functions!
    return 





test_time()

# Call your apparent_magnitude function here to see what answer you get 
# and to fill in the above table
mag = m(CHANGEME, CHANGEME)
print(f"The apparent magnitude your function calculated was m = {mag} (Compare this to the expected answer above)")





test_time()

ax = show_cluster_data()
ax = show_correct_isochrone(ax=ax)
ax = show_close_isochrone(ax=ax)
ax = show_old_isochrone(ax=ax)
ax.invert_yaxis()
ax.legend()





test_time()

cluster_cuts = dict(
    cone_search_radius=8,
    minimum_radial_velocity=10, #km/s
    maximum_radial_velocity=50, #km/s
    proper_motion_delta=5,
    proper_motion_ra=0,
    proper_motion_dec=1,
    minimum_parallax=0.5, 
    maximum_parallax=2,
)

# SHOW THE CLUSTER DATA BASED ON THE ABOVE CUTS
show_cluster_data(**cluster_cuts) 





test_time()

ax = show_cluster_data(**cluster_cuts)

show_isochrone(
    age = 1, # Gyr
    distance = 400, # pc
    ax = ax,
    color = 'red' # or whatever your favorite color is...
)
ax.invert_yaxis()




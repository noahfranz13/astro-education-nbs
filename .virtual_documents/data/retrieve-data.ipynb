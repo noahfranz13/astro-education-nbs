import os
import numpy as np
import pandas as pd
import matplotlib.pyplot as plt

from astropy.coordinates import SkyCoord
from astropy import units as u

from astroquery.gaia import Gaia

Gaia.ROW_LIMIT = 100_000_000 # set this limit very high so we don't miss things


# determine cluster membership from gaia using the same algorithm as described
# in this paper (S2.1) https://academic.oup.com/mnras/article/532/2/2860/7708363#475484664
overwrite = False # this takes a little bit to run
cone_search_results_file = os.path.join(os.getcwd(),"gaia_cone_search_results.csv")

if overwrite:
    # first grab all gaia objects within 2 degrees of the cluster
    cluster_coord = SkyCoord(132.85, 11.81, unit=u.deg)
    cluster_radius = 2 * u.deg
    
    job = Gaia.cone_search(cluster_coord, radius=cluster_radius)
    res = job.get_results().to_pandas()
    
    res.to_csv(cone_search_results_file)
else:
    res = pd.read_csv(cone_search_results_file, index_col=0)

# radial velocity cut
min_rv, max_rv = 34-13.6, 34+13.6 # km/s; same units that Gaia uses
res = res[(res.radial_velocity > min_rv) * (res.radial_velocity < max_rv)]

# parallax cut
dpx = 0.12
min_px, max_px = 1.15-dpx, 1.15+dpx
res = res[(res.parallax > min_px) * (res.parallax < max_px)]

# proper motion cut
dmu = 0.7 # mas yr^-1; same units as gaia uses
mu = np.array([-11, -2.9]) # mas yr^-1; same units as gaia uses

proper_motion_distance = np.sqrt(np.sum((res[["pmra", "pmdec"]] - mu)**2, axis=1))
res = res[proper_motion_distance <= dmu]

if overwrite:
    res.to_csv("cleaned-M67-data.csv")

res


fig, ax = plt.subplots()

ax.plot(
    res.phot_bp_mean_mag - res.phot_rp_mean_mag , 
    res.phot_g_mean_mag, 
    marker='.',
    linestyle='none',
    color='k'
)

ax.invert_yaxis()
ax.set_ylabel("Gaia DR3 G")
ax.set_xlabel("Gaia DR3 (BP - RP) Color")


res




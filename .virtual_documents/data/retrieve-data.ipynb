import os
import numpy as np
import pandas as pd
import matplotlib.pyplot as plt

from astropy.coordinates import SkyCoord
from astropy import units as u

from astroquery.gaia import Gaia

Gaia.ROW_LIMIT = 100_000_000 # set this limit very high so we don't miss things


# determine cluster membership from gaia using the same algorithm as described
# in this paper (S2.1) https://academic.oup.com/mnras/article/532/2/2860/7708363#475484664
overwrite = True # this takes a little bit to run
cone_search_results_file = os.path.join(os.getcwd(),"gaia_cone_search_results.csv")

if overwrite:
    # first grab all gaia objects within 2 degrees of the cluster
    cluster_coord = SkyCoord(132.85, 11.81, unit=u.deg)
    cluster_radius = 2 * u.deg # 2 * u.deg
    
    job = Gaia.cone_search(cluster_coord, radius=cluster_radius)
    res = job.get_results().to_pandas()
    
    res.to_csv(cone_search_results_file)
else:
    res = pd.read_csv(cone_search_results_file, index_col=0)

res


def cluster_filter(
        cone_search_radius:float=2,
        minimum_radial_velocity:float=34-13.6, #km/s
        maximum_radial_velocity:float=34+13.6, #km/s
        minimum_parallax:float=1.15-0.12, 
        maximum_parallax:float=1.15+0.12,
        proper_motion_delta:float=0.7,
        proper_motion_ra:float=-11,
        proper_motion_dec:float=-2.9,
        overwrite=False
    ) -> pd.DataFrame:

    # read in the cleaned up M67 dataset
    res = pd.read_csv("gaia_cone_search_results.csv")
    
    # cone search cut
    cluster_coord = SkyCoord(132.85, 11.81, unit=u.deg)
    res_coord = SkyCoord(res.ra, res.dec, unit="deg")
    where_cluster = np.where(res_coord.separation(cluster_coord) < (cone_search_radius*u.deg))
    res = res.iloc[where_cluster]
    
    # radial velocity cut
    res = res[(res.radial_velocity > minimum_radial_velocity) * (res.radial_velocity < maximum_radial_velocity)]
    
    # parallax cut
    res = res[(res.parallax > minimum_parallax) * (res.parallax < maximum_parallax)]
    
    # proper motion cut
    dmu = proper_motion_delta # mas yr^-1; same units as gaia uses
    mu = np.array([proper_motion_ra, proper_motion_dec]) # mas yr^-1; same units as gaia uses
    
    proper_motion_distance = np.sqrt(np.sum((res[["pmra", "pmdec"]] - mu)**2, axis=1))
    res = res[proper_motion_distance <= dmu]
    
    if overwrite:
        res.to_csv("cleaned-M67-data.csv")

    return res




res = cluster_filter(cone_search_radius=2)

fig, ax = plt.subplots()

ax.plot(
    res.phot_bp_mean_mag - res.phot_rp_mean_mag , 
    res.phot_g_mean_mag, 
    marker='.',
    linestyle='none',
    color='k'
)

ax.invert_yaxis()
ax.set_ylabel("Gaia DR3 G")
ax.set_xlabel("Gaia DR3 (BP - RP) Color")


res




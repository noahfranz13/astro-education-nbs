from util import * 


ax = show_cluster_data()
write_label(0.25, 14, "A", ax)
write_label(0.83, 12, "B", ax)

fig = ax.get_figure()
fig.savefig("P3Q1_figure.png")


ms = 6

ax = show_isochrone(
    datapath="/home/noahf/astro-education-nbs/notebooks/",
    age = 5,
    color = "r",
    marker = "o",
    markersize = ms,
    label = "A" #"5 Gyr"
)

ax = show_isochrone(
    datapath="/home/noahf/astro-education-nbs/notebooks/",
    age = 1,
    color = "b",
    marker = "^",
    markersize = ms,
    label = "B", #"1 Gyr",
    ax=ax
)

ax = show_isochrone(
    datapath="/home/noahf/astro-education-nbs/notebooks/",
    age = 13,
    ax = ax,
    color = "k",
    marker = "s",
    markersize = ms,
    label = "C" #"13 Gyr"
)

ax.set_ylabel("Arbitrary Magnitudes")
ax.set_yticklabels([])

ax.legend()

ax.get_figure().savefig("P3Q2_figure.png")


ax = show_cluster_data()
ax = show_isochrone(
    datapath="/home/noahf/astro-education-nbs/notebooks/",
    age = 1,
    distance = 400,
    ax = ax,
    color = 'r',
    label = "Isochrone"
)

ax.set_ylim(16, 6)

ax.get_figure().savefig("P3Q3_figure.png", dpi=100)


ax = show_isochrone(
    age = 1, # in Gyr
    distance = 400 # in parsecs
)

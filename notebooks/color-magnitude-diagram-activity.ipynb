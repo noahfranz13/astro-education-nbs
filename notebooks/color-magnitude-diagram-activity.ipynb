{
 "cells": [
  {
   "cell_type": "markdown",
   "metadata": {
    "jupyter": {
     "outputs_hidden": false
    },
    "tags": []
   },
   "source": [
    "---\n",
    "# Exploring Color Magnitude Diagrams in Python\n",
    "##### By: N. Franz, J. Isbell,  E. Prather\n",
    "---\n",
    "### Instructions on the Notebook\n",
    "During the pre-lecture video we will go through this Python notebook through section 4.2. This way, we will be able to start at section 4.3 during class and get into some of the more fun stuff :)\n",
    "\n",
    "---\n",
    "### Background on Notebooks\n",
    "Some vital information:\n",
    "1. This is called a \"Jupyter Notebook\" (said like Jupiter Notebook). It is a common tool used by astronomers to write and develop code for their research, primarily for looking at data. It runs Python code in small blocks, each like a mini program.  \n",
    "2. Each block of code is called a \"cell\", to run a cell you can click into it with your mouse and press `Shift-Enter`.\n",
    "3. When you run a cell, some will output plots/figures or text at the bottom of them. This will give you some information about the code and color magnitude diagrams. Other cells won't have any output, and that's okay!\n",
    "4. You may not understand fully what the code is doing and that is *totally okay*! This is as much about the astronomy as it is the code. Our goal for this notebook is to provide a soft introduction to Python code for those who have never seen it.\n",
    "\n",
    "---\n",
    "\n",
    "### Setup for the Notebook\n",
    "\n",
    "Before doing anything else, we need to execute the following cell by pressing `Shift-Enter`. This cell will install some existing code we need for the Notebook and download some data that we have prepped for it."
   ]
  },
  {
   "cell_type": "code",
   "execution_count": null,
   "metadata": {
    "collapsed": false,
    "jupyter": {
     "outputs_hidden": false
    },
    "tags": []
   },
   "outputs": [],
   "source": [
    "# Import useful software for this workbook\n",
    "%load_ext autoreload\n",
    "%autoreload 2\n",
    "import os\n",
    "from urllib.request import urlopen\n",
    "import matplotlib.pyplot as plt\n",
    "import numpy as np \n",
    "import pandas as pd\n",
    "from astropy.coordinates import SkyCoord\n",
    "from astropy import units as u\n",
    "from matplotlib.patches import Ellipse, Rectangle\n",
    "\n",
    "#############################################################################################################################\n",
    "######################################### Download and install some Software/Code ###########################################\n",
    "#############################################################################################################################\n",
    "data_urls = [\n",
    "    \"https://raw.githubusercontent.com/noahfranz13/astro-education-nbs/refs/heads/main/notebooks/util.py\", # useful code\n",
    "    \"https://raw.githubusercontent.com/noahfranz13/astro-education-nbs/refs/heads/main/data/gaia_cone_search_results.csv\", # Gaia results\n",
    "    \"https://github.com/noahfranz13/astro-education-nbs/raw/refs/heads/main/data/isochrones.pkl.zip\" # isochrone data\n",
    "]\n",
    "\n",
    "for url in data_urls:\n",
    "    \n",
    "    # derive the filename from the url\n",
    "    filename = os.path.join(os.getcwd(), url.split(\"/\")[-1])\n",
    "    if os.path.exists(filename): continue\n",
    "\n",
    "    # request the data from that url and write it to a file\n",
    "    res = urlopen(url)\n",
    "    with open(filename, \"wb\") as f:\n",
    "        f.write(res.read())\n",
    "\n",
    "try:\n",
    "    from util import *\n",
    "except ImportError as exc:\n",
    "    raise Exception(\"Please make sure you run the above cell to download all of the other code and data!\") from exc\n",
    "#############################################################################################################################\n"
   ]
  },
  {
   "cell_type": "markdown",
   "metadata": {
    "jupyter": {
     "outputs_hidden": false
    }
   },
   "source": [
    "---"
   ]
  },
  {
   "cell_type": "markdown",
   "metadata": {
    "jupyter": {
     "outputs_hidden": false
    }
   },
   "source": [
    "### 1. Reviewing the Color Magnitude Diagrams\n",
    "\n",
    "First, try to fill in this table with your intuition for meaning of locations on a Color Magnitude Diagram. The possible labels you can use are listed below: \n",
    "1. `bluer, small apparent magnitude`, \n",
    "2. `bluer, large apparent magnitude`, \n",
    "3. `redder, small apparent magnitude`, \n",
    "4. `redder, large apparent magnitude`. \n",
    "\n",
    "### 1.1 Joint Activity\n",
    "Now, we're going to write some code! In the code cell below, you will change all of the \"CHANGE ME\" values to the corresponding values from the list above (but be sure to leave the double quotes around it!). These values will then be plotted by a Python function called `plot_labels_cmd`. In general, this demonstrates how to create a figure in Python and add labels to it. For the extra curious learner who would like to get into the nitty gritty of the Python code, throughout this notebook we will use code that is written in the `util.py` file. \n",
    "\n",
    "Consider the following labelled color magnitude diagram when choosing your labels for each location.\n",
    "\n",
    "<img src=\"./example-cmd.png\" width=40% height=40%></img>"
   ]
  },
  {
   "cell_type": "code",
   "execution_count": null,
   "metadata": {
    "collapsed": false,
    "jupyter": {
     "outputs_hidden": false
    },
    "tags": []
   },
   "outputs": [],
   "source": [
    "# This is a python comment -- anything after a # is ignored by python\n",
    "# In the below code, we use comments to explain what the lines of code do\n",
    "\n",
    "# Define the labels\n",
    "labels = {\n",
    "    \"upper-left\":   \"CHANGE ME\",\n",
    "    \"upper-right\":  \"CHANGE ME\", \n",
    "    \"lower-left\":   \"CHANGE ME\", \n",
    "    \"lower-right\":  \"CHANGE ME\"\n",
    "    }\n",
    "\n",
    "# Plot the labels on the CMD\n",
    "fig = plot_labels_cmd(labels)\n",
    "fig.gca().invert_yaxis()"
   ]
  },
  {
   "cell_type": "markdown",
   "metadata": {},
   "source": [
    "### Solo Activity\n",
    "**Pause the Video Here!!!**\n",
    "\n",
    "Next, you'll do the same thing on your own but using color labels rather than the relative temperature. While doing this you should be thinking about how these color magnitude diagrams connect to the Hertzsprung-Russell diagrams! \n",
    "\n",
    "Your label word bank is: \n",
    "1. `hotter, brighter`, \n",
    "2. `hotter, dimmer`, \n",
    "3. `colder, brighter`,\n",
    "4.  `colder, dimmer`\n",
    "\n",
    "*HINT!*  Try to think about how the color relates to the temperture labels you gave in the previous question!\n",
    "\n",
    "And, just like above, change the CHANGE ME's below (but be sure to leave the double quotes around it!).\n",
    "\n",
    "<img src=\"./example-cmd.png\" width=40% height=40%></img>"
   ]
  },
  {
   "cell_type": "code",
   "execution_count": null,
   "metadata": {
    "collapsed": false,
    "jupyter": {
     "outputs_hidden": false
    },
    "tags": []
   },
   "outputs": [],
   "source": [
    "# Define the labels\n",
    "labels = {\n",
    "    \"upper-left\":   \"CHANGE ME\",\n",
    "    \"upper-right\":  \"CHANGE ME\", \n",
    "    \"lower-left\":   \"CHANGE ME\", \n",
    "    \"lower-right\":  \"CHANGE ME\"\n",
    "    }\n",
    "\n",
    "# Plot the labels on the CMD \n",
    "fig = plot_labels_physical(labels)\n",
    "fig.gca().invert_yaxis()"
   ]
  },
  {
   "cell_type": "markdown",
   "metadata": {
    "jupyter": {
     "outputs_hidden": false
    }
   },
   "source": [
    "---\n",
    "\n",
    "### 2. Exploring the Dataset\n",
    "\n",
    "For this activity, we've put together a dataset of stars that belong to the cluster [Messier 67](https://en.wikipedia.org/wiki/Messier_67). As you learned in this class, stars in clusters tend to have nearly the same age since they were all born around when the cluster itself was born. Also since they are in a cluster, they should all be at about the same location and distance from Earth. When you have a large dataset, and you want to reduce it to only the data you care about for your data analysis of that cluster, the distance and age are examples of properties we can cut on.\n",
    "\n",
    "For now, we are just going work with the cleaned version of the dataset of the stars in M67. Later on you will have to do more of this yourself.\n",
    "\n",
    "When we plot the Color Magnitude Diagram of M67 from this data we get the following plot.\n",
    "\n",
    "<img src=\"./example-cmd-real-data.png\" width=40% height=40%></img>\n",
    "\n",
    "### 2.1 Joint Labeling Activity\n",
    "To place a text label on a plot, we will use the `write_label` function. To use this, we need to *define a variable* to describe the coordinates where the text should go on the figure. This means that we are storing the value (on the right hand side of the equal sign) in a variable (on the left hand side of the equal sign). This is just like in algebra when you say `coordinate = (1, 2)`. The advantages of defining a variable is that you can save values for use later on in the code!\n",
    "\n",
    "Let's do an example together! Say we want to give the color-magnitude diagram above a \"title\" that is within the bounds of the figure. Here is how we would do that:"
   ]
  },
  {
   "cell_type": "code",
   "execution_count": null,
   "metadata": {
    "collapsed": false,
    "jupyter": {
     "outputs_hidden": false
    },
    "tags": []
   },
   "outputs": [],
   "source": [
    "# define the coordinate variable at the x and y position of the label\n",
    "title_position = (-0.5, 15)\n",
    "\n",
    "# create the color-magnitude plot so that it draws below this cell\n",
    "ax = show_cluster_data()\n",
    "\n",
    "# now write a label on the color-magnitude plot.\n",
    "write_label(*title_position, \"M67 Color-Magnitude Diagram\", ax)"
   ]
  },
  {
   "cell_type": "markdown",
   "metadata": {},
   "source": [
    "Note that we've saved the plot in the variable \"ax\" so we also give that to the `write_label` function so it knows _which plot to write the text on_.\n",
    "\n",
    "### 2.2 Solo Color-Magnitude Diagram Labeling Activity\n",
    "Now, you will place the following letters at the corresponding coordinates on the figure.\n",
    "1. Place an A near the dimmest main sequence star\n",
    "2. Place a B at the coordinates where a star that has evolved off the main sequence is currently living (i.e. the Red Giant Branch)\n",
    "3. The stars that are currently red giants used to be main sequence stars earlier in their lives. Place a C on the color-magnitude diagram at a location that could represent where the current red giants could have been when they were main sequence star. \n",
    "4. Place a D on top of the stars that are currently evolving off of the main sequence (i.e. the \"Main Sequence Turnoff Point\")\n",
    "5. Place an E where low-mass stars which have evolved past being giants would be on this diagram. (Hint: this is where White Dwarf Stars are on this diagram).\n",
    "\n",
    "Just like above, to do this, you will replace the \"X\" and \"Y\" below for each labels x and y position. For example, if I thought A resided at the coordinates (color index, apparent magnitude) = (0.4, 11) I would change \n",
    "```\n",
    "A_coordinate = (\"X\", \"Y\")\n",
    "```\n",
    "to\n",
    "```\n",
    "A_coordinate = (0.4, 11)\n",
    "```\n",
    "\n",
    "Below we show the unlabeled color-magnitude diagram for reference.\n",
    "\n",
    "<img src=\"./example-cmd-real-data.png\" width=40% height=40%></img>"
   ]
  },
  {
   "cell_type": "code",
   "execution_count": null,
   "metadata": {
    "collapsed": false,
    "jupyter": {
     "outputs_hidden": false
    },
    "tags": []
   },
   "outputs": [],
   "source": [
    "# Define the coordinates here\n",
    "A_position = (\"X\", \"Y\")\n",
    "B_position = (\"X\", \"Y\")\n",
    "C_position = (\"X\", \"Y\")\n",
    "D_position = (\"X\", \"Y\")\n",
    "E_position = (\"X\", \"Y\")\n",
    "\n",
    "### CODE TO DISPLAY THE CLUSTER DATA AND COORDINATES\n",
    "### DO NOT CHANGE BELOW THIS LINE\n",
    "ax = show_cluster_data()\n",
    "write_label(*A_position, \"A\", ax)\n",
    "write_label(*B_position, \"B\", ax)\n",
    "write_label(*C_position, \"C\", ax)\n",
    "write_label(*D_position, \"D\", ax)\n",
    "write_label(*E_position, \"E\", ax)"
   ]
  },
  {
   "cell_type": "markdown",
   "metadata": {
    "jupyter": {
     "outputs_hidden": false
    }
   },
   "source": [
    "_A special note:_ In the example we have no quotes\n",
    "around the numbers in the example coordinates. This is important because these are _numbers_ not _strings_, \n",
    "where strings are text. Being careful about strings/text vs. numbers later on in this notebook will be important!\n",
    "\n",
    "---\n",
    "### 3. From Data to Isochrones\n",
    "\n",
    "Isochrones are a model of the evolution of a star cluster at a particular age. Rather than the messy, observed dataset that you labelled above, these are _models_ of what a single stellar population would look like. \n",
    "\n",
    "An example isochrone plotted as a rough fit to the M67 color-magnitude data is shown below. \n",
    "\n",
    "<img src=\"./sample-isochrone.png\" width=40% height=40%></img>"
   ]
  },
  {
   "cell_type": "markdown",
   "metadata": {
    "jupyter": {
     "outputs_hidden": false
    }
   },
   "source": [
    "--- \n",
    "### 4. Comparing Data with the Model Isochrones\n",
    "\n",
    "The shape and main sequence turnoff location of isochrones are primarily dependent on the age of the stellar population (some other properties matter, like metallicity, but we aren't worrying about those here). _When studying a cluster of stars, we are interested in measuring the age of the population._ To do this, we must fit a model isochrone to the observed data. This can be very complex so let's set it up like a physics problem with our \"givens\" and then \"process\".\n",
    "\n",
    "**Givens:**\n",
    "1. A library of model isochrones. This is essentially a list of isochrones generated with different ages. These isochrones are given in _absolute magnitudes_ (which is a direct indication of an objects luminosity).\n",
    "2. Observations of stars in a cluster, which include the _apparent magnitudes_ of those stars in multiple wavelength filters. This is what we generate the color-magnitude diagram from.\n",
    "\n",
    "**Process:**\n",
    "\n",
    "We want to find the isochrone that best fits the stars in the clsuter. Based on the givens listed above you can imagine a major problem we need to solve: The isochrones are given in absolute magnitudes while our star observations are given in apparent magnitudes. This means to fit the isochrone to the observation, we also need to use the distance as an input parameter to our model. This allows us to fit the observations with an isochrone with two parameters: Distance and Age. To scale the isochrone, which is in absolute magnitude space, to the data in apparent magnitude space, we use the distance modulus equation:\n",
    "\n",
    "$m-M = 5 \\log_{10}(\\frac{d}{10 pc})$.\n",
    "\n",
    "Once we have the isochrone in apparent magnitudes, we can compare it to the observed dataset to see if the age of the isochrone matches the age of the cluster.\n",
    "\n",
    "<!--\n",
    "1. Libarary of pre-computed models for different ages and metallicities\n",
    "    - maybe [https://waps.cfa.harvard.edu/MIST/model_grids.html](https://waps.cfa.harvard.edu/MIST/model_grids.html)\n",
    "2. Functions to change them by distance \n",
    "3. Interactive element to have them scale/change the values \n",
    "    - start with sliders and then move into code entering???\n",
    "    - display a range of values to guide some guesswork \n",
    "4. Ask which isochrones work best and why? \n",
    "    - can we find an example where there's some degeneracy? \n",
    "-->"
   ]
  },
  {
   "cell_type": "markdown",
   "metadata": {},
   "source": [
    "### 4.1 Writing functions in Python\n",
    "At a fundamental level, Python functions and mathematical equations are very similar. They take in a number of arguments, do some operations on them, and produce a value. Unfortunately, Python can't read mathematical notation directly, so even though the parts and the process are the same, the presentation is a bit different.\n",
    "\n",
    "One of the major differences between Python and handwritten equations is that to actually do calculations in Python you need to use existing libraries of mathematical functions to do some basic calculations. `NumPy` is one of the most commonly used Python libraries for doing these calculations. Some useful `NumPy` functions are:\n",
    "1. `np.sqrt(x)`: The square root of the number in the parantheses. In algebraic notation you would see this as $f(x) = \\sqrt{x}$.\n",
    "2. `np.power(x,y)`: Raises the first number to the power of the second number inside the parantheses. In algebraic notation, you would see this as $f(x,y) = x^y$. (Interestingly, the results of the `np.sqrt` function can also come from `np.power(x, 1/2)`. Why is this? Why have two functions?)\n",
    "3. `np.log10(x)`: Takes the base 10 logarithm of the number in the parantheses. In algebraic notation, you would see this as $log_{10}\\left(x\\right)$\n",
    "\n",
    "Note that `NumPy` functions are usually called using the abbreviation `np`. So before using any NumPy function you preface it with a `np.` If you want to learn more abotu `NumPy` you should go checkout their very extensive documentation: https://numpy.org/\n",
    "\n",
    "As an example of defining a mathematical function in Python, let's use a basic physics equation that you should all be familiar with, the kinematic distance equation:\n",
    "$$\n",
    "\\Delta y(t, v_0, a) = v_0 t + \\frac{1}{2} a t^2\n",
    "$$\n",
    "However, say we are discussing a ball in freefall, then we know that $a = g = -9.8 m/s^2$! So we can plug this value into the above equation and remove one of our unknowns:\n",
    "$$\n",
    "\\Delta y(t, v_0) = v_0 t - \\frac{1}{2} (9.8~\\rm{m}/\\rm{s}^2) t^2\n",
    "$$\n",
    "\n",
    "In python, we would define this function in the following way. The variables within the parantheses after the `def` are the _inputs to the function_. Then, everything after the \"return\" statement is the portion of the function that returns us the result."
   ]
  },
  {
   "cell_type": "code",
   "execution_count": null,
   "metadata": {
    "collapsed": false,
    "jupyter": {
     "outputs_hidden": false
    },
    "tags": []
   },
   "outputs": [],
   "source": [
    "@test(test_delta_y_function)\n",
    "def delta_y(t, v0):\n",
    "    return _*t - (_) * _ * np.power(t, _)\n"
   ]
  },
  {
   "cell_type": "markdown",
   "metadata": {},
   "source": [
    "---\n",
    "<table align=\"left\">\n",
    "  <tr>\n",
    "    <td><img src=\"./stop-sign.png\" width=40% height=40%></img> </td>\n",
    "    <td><h1>STOP HERE</h1><h3>We will finish this notebook in class</h3></td>\n",
    "  </tr>\n",
    "</table>\n",
    "\n",
    "<div style=\"clear: both;\"></div>\n",
    "\n",
    "### 4.2 Computing apparent magnitude by writing a python function \n",
    "\n",
    "Consider again the distance modulus. The value we want is the apparent magnitude $m$ as a function of distance $d$, so the above equation can be rewritten as \n",
    "$$\n",
    "m(M, d) = M + 5 \\log_{10}\\left(\\frac{d}{10~\\rm{pc}}\\right)\n",
    "$$. \n",
    "\n",
    "**Task** Write a Python function to compute the apparent magnitude for an object with absolute magnitude $M$ and distance $d$. A scaffold has been laid out below. \n",
    "\n",
    "\n",
    "\n",
    "(Hint: use one of the above numpy mathematical operations)\n",
    "\n",
    "(Hint 2: Python doesn't know about units, so don't worry about including parsecs or magnitudes )"
   ]
  },
  {
   "cell_type": "code",
   "execution_count": null,
   "metadata": {
    "collapsed": false,
    "jupyter": {
     "outputs_hidden": false
    },
    "tags": []
   },
   "outputs": [],
   "source": [
    "test_time()\n",
    "@test(test_apparent_magnitude_function)\n",
    "def apparent_magnitude(variable_0, variable_1):\n",
    "    # 1) Change variable_0 and variable_1 to the inputs to the distance modulus function \n",
    "    #    (Think about what it needs to compute the apparent magnitude!)\n",
    "    # 2) Fill in the math for the magnitude function after this return statement\n",
    "    #    (which numpy function do you need for log base 10?)\n",
    "    # 3) Remember to use the \"np.\" prefix when calling numpy functions!\n",
    "    return "
   ]
  },
  {
   "cell_type": "markdown",
   "metadata": {},
   "source": [
    "### 4.3 Testing your distance modulus function\n",
    "\n",
    "Now that you've written your function for the apparent magnitude, try it out below! We wrote some sample code showing you how to \"call\", or use your function to return a result, with some input values. Below, you should insert the absolute magnitude and distance values from the table where it says CHANGEME. This will place those values into the equation you created above and use that equation to compute the apparent magnitude. Each time you get a result based on the absolute magnitude and distance you give the function, compare it with the expected answer given in the table. You should also double-click anywhere in this cell and type your answer into the appropriate location in the table.\n",
    "\n",
    "| Absolute Magnitude (M) | Distance (pc) | Expected Answer (m) | Your Answer (m) |\n",
    "| ---------------------- | ------------- | ------------------- | --------------- |\n",
    "| 0                      | 10            | 0                   |                 |\n",
    "| 5                      | 40            | 8.01                |                 |\n",
    "| -1                     | 400           | 7.01                |                 |"
   ]
  },
  {
   "cell_type": "code",
   "execution_count": null,
   "metadata": {
    "collapsed": false,
    "jupyter": {
     "outputs_hidden": false
    },
    "tags": []
   },
   "outputs": [],
   "source": [
    "test_time()\n",
    "\n",
    "# Call your apparent_magnitude function here to see what answer you get \n",
    "# and to fill in the above table\n",
    "mag = apparent_magnitude(CHANGEME, CHANGEME)\n",
    "print(f\"The apparent magnitude your function calculated was m = {mag}\")"
   ]
  },
  {
   "cell_type": "markdown",
   "metadata": {},
   "source": [
    "### 4.4 The effect of changing the distance and age of the cluster\n",
    "\n",
    "Now that we understand _how_ to compute the apparent magnitude from the distance, we are able to compare the isochrones and observed data directly! The other important factor that plays into the quality of the model fit to the data is the age of the cluster vs. the age of the modeled isochrone. Below, we show some isochrones on top of the data. Each isochrone represents a different combination of age and distance.\n",
    "\n",
    "With your\n",
    "partner, discuss how each parameter, age and distance, affects where the\n",
    "isochrone is placed on the color-magnitude diagram. Determine which\n",
    "parameter (age or distance) is responsible for the vertical position of\n",
    "the isochrone, and which is responsible for moving the isochrone along\n",
    "the main sequence? Consider how these two variables must both be used to\n",
    "correctly place the isochrone's turn-off point to model the cluster's\n",
    "evolution."
   ]
  },
  {
   "cell_type": "code",
   "execution_count": null,
   "metadata": {
    "collapsed": false,
    "jupyter": {
     "outputs_hidden": false
    },
    "tags": []
   },
   "outputs": [],
   "source": [
    "test_time()\n",
    "\n",
    "ax = show_cluster_data()\n",
    "ax = show_correct_isochrone(ax=ax)\n",
    "ax = show_close_isochrone(ax=ax)\n",
    "ax = show_old_isochrone(ax=ax)\n",
    "ax.invert_yaxis()\n",
    "ax.legend()"
   ]
  },
  {
   "cell_type": "markdown",
   "metadata": {},
   "source": [
    "---\n",
    "<table align=\"left\">\n",
    "  <tr>\n",
    "    <td><img src=\"./stop-sign.png\" width=40% height=40%></img> </td>\n",
    "    <td><h1>CHECK POINT</h1><h3>Check with an instructor before continuing please!</h3></td>\n",
    "  </tr>\n",
    "</table>\n",
    "\n",
    "<div style=\"clear: both;\"></div>\n",
    "\n",
    "---\n",
    "### 4.5 Student Debate Discussion\n",
    "Below is a student discussion based on this activity, we will put a think-pair-share question on the slides based on this.\n",
    "\n",
    "1. Student 1: \"If you look at the blue and red isochrones, they are at different\n",
    "    distances and at different heights on the plot. I think this means that the\n",
    "    vertical displacement must be related to only the distance. So, the distance\n",
    "    affects the vertical position of the isochrone and the age must move the \n",
    "    isochrone horizontally.\"\n",
    "\n",
    "2. Student 2: \"I agree that the vertical displacement is related to the distance. \n",
    "    But, the since the age changes the location of the main sequence turn-off point,\n",
    "    it must move the isochrone along the main sequence, moving it both vertically and\n",
    "    horizontally.\"\n",
    "\n",
    "3. Student 3: \"I see, so if you want to fit the isochrone to the data\n",
    "\t correctly to model the clusters evolution, you're going to need to\n",
    "\t adjust the age parameter and the distance parameter to get the turnoff\n",
    "\t point to the right position. I think this mean we can actually\n",
    "\t calculate the age and distance of a cluster\"\n",
    "---\n",
    "### 5. Changing the Dataset\n",
    "\n",
    "Before our final challenge, let's explore a bit more detail about how we\n",
    "trimmed and/or cleaned the raw data to represent stars that are only in\n",
    "the cluster M67.\n",
    "\n",
    "We started with all of the data from Gaia, a space based telescope that\n",
    "is surveying starts within the entire Milky Way and parts of nearby\n",
    "galaxies. We then made the following cuts on the dataset:\n",
    "\n",
    "1. We performed what is called a \"cone search\", in which you define the radius\n",
    "   of a disk, or patch, of space that you will select of the objects from in\n",
    "   the dataset. You can imagine that narrowing this radius\n",
    "   will cut out some stars in the cluster and broadening it will possibly\n",
    "   include some field stars that are not in the cluster. Of course, the\n",
    "   radius is just what you think is best, so you should\n",
    "   definitely play around with the cone search radius with your research\n",
    "   below! \n",
    "2. You can imagine that, since the stars in a cluster are gravitationally\n",
    "   bound, all of them should be moving relative to Gaia's line of sight at about the same\n",
    "   velocity with some small amount of deviation. This allows us to tune\n",
    "   two other parameters: \n",
    "   \n",
    "       a) Radial velocity is a stars velocity towards\n",
    "       or away from Earth (or Gaia). We can set an upper and lower limit on this to\n",
    "       find stars that are moving similar to each other. \n",
    "       \n",
    "       b) Proper motion is a stars velocity perpendicular to your line of sight and is typically\n",
    "       measured in both the RA and Declination directions. So, we can make a\n",
    "       cut on proper motion by removing stars that lie outside some proper\n",
    "       motion range of values (what we call delta) centered at a particular value for\n",
    "       proper motion RA and Declination.\n",
    "\n",
    "\n",
    "3. The third cut we can make, of course, is on the distance to the stars.\n",
    "   Since we have Gaia data, we can use the star's parallax measurement as a\n",
    "   distance indicator. Similar to the velocity, we can simply give a\n",
    "   minimum and maximum parallax for the stars in the cluster to define the\n",
    "   total range of accepted distances to be considered a member of our\n",
    "   cluster.\n",
    "\n",
    "GIVE APPROXIMATE RANGES FOR ALL OF THE STARS\n",
    "\n",
    "etc...\n",
    "\n",
    "Below, you can change any of the numbers and see how it changes the\n",
    "amount of stars on the Color-Magnitude Diagram. Then, once you're done\n",
    "and feel like you understand how all of these different factors affect\n",
    "the color magnitude diagram of the cluster, you can move onto the\n",
    "final challenge!\n",
    "\n",
    "_Hint:_ Here are some approximate ranges for the filtering parameters of a cluster like M67\n",
    "* cone search radius: [0.1, 10]\n",
    "* minimum radial velocity: [1, 30]\n",
    "* maximum radial velocity: [20, 60]\n",
    "* proper motion range delta: [0.01, 10] \n",
    "* proper motion RA: [-20, 0]\n",
    "* proper motion declination: [-5, 5]\n",
    "* minimum parallax: [0,5]\n",
    "* maximum parallax: [0,5]\n",
    "\n",
    "\n",
    "<!--\n",
    "Before our final challenge, let's explore in a bit more detail how we actually got the data for M67. This way, you can tune different parameters if you'd like to narrow (or broaden) the focus of the dataset. \n",
    "\n",
    "We started with all of the data from Gaia, a space based telescope that is surveying starts within the entire Milky Way and parts of nearby galaxies. We then made the following cuts on the dataset:\n",
    "1. We performed a cone search centered on the coordinates of the cluster with a radius of 2 arcseconds. You can imagine that narrowing this radius will cut out some stars in the cluster and broadening it will possibly include some field stars that are not in the cluster. Of course, the 2 arcsecond radius is just what we thought was best, so you should definitely play around with it!\n",
    "2. You can imagine that, since the stars in a cluster are gravitationally bound, all of them should be moving on the sky at about the same velocity with some small amount of deviation. This allows us to tune two other parameters:\n",
    "   a. Radial velocity is a stars velocity towards or away from Earth. We can set an upper and lower limit on this to find stars that are moving similar to each other on the sky\n",
    "   b. Proper motion is a stars velocity across the sky and is typically measured in both the RA and Declination directions. So, we can make a cut on proper motion by removing stars that lie outside some proper motion delta centered at a proper motion RA and Declination.\n",
    "3. The third cut we can make, of course, is on the distance to the stars. Since we have Gaia data, we can use their parallax measurement. Similar to the velocity, we can simply give a minimum and maximum parallax for the stars in the cluster.\n",
    "\n",
    "Below, you can change any of the numbers and see how it changes the amount of stars on the Color-Magnitude Diagram. Then, once you're done and feel like you understand how all of these different factors affect the color magnitude diagram of the cluster, you can move onto the final challenge!\n",
    "-->"
   ]
  },
  {
   "cell_type": "code",
   "execution_count": null,
   "metadata": {
    "collapsed": false,
    "jupyter": {
     "outputs_hidden": false
    },
    "tags": []
   },
   "outputs": [],
   "source": [
    "test_time()\n",
    "\n",
    "cluster_cuts = dict(\n",
    "    cone_search_radius=10,\n",
    "    minimum_radial_velocity=10, #km/s\n",
    "    maximum_radial_velocity=50, #km/s\n",
    "    proper_motion_delta=5,\n",
    "    proper_motion_ra=-15,\n",
    "    proper_motion_dec=1,\n",
    "    minimum_parallax=0.5, \n",
    "    maximum_parallax=2,\n",
    ")\n",
    "\n",
    "# SHOW THE CLUSTER DATA BASED ON THE ABOVE CUTS\n",
    "show_cluster_data(**cluster_cuts) "
   ]
  },
  {
   "cell_type": "markdown",
   "metadata": {
    "jp-MarkdownHeadingCollapsed": true,
    "tags": []
   },
   "source": [
    "---\n",
    "<table align=\"left\">\n",
    "  <tr>\n",
    "    <td><img src=\"./stop-sign.png\" width=40% height=40%></img> </td>\n",
    "    <td><h1>CHECK POINT</h1><h3>Check with an instructor before continuing please!</h3></td>\n",
    "  </tr>\n",
    "</table>\n",
    "\n",
    "<div style=\"clear: both;\"></div>\n",
    "\n",
    "---\n",
    "### 6. The Final Challenge: Applying a Model to the Dataset\n",
    "\n",
    "For our final challenge, try to model the cluster dataset that you generated in the last section by changing the age of and distance of the isochrone to get the best fit to the data! (You can do this by changing the numbers next to `age=` and `distance=`). Fitting a dataset means finding the model that best represents the data. This can be done a variety of different ways, but for now, you can change the age and distance by hand to find the isochrone that looks the most like the data. \n",
    "\n",
    "Hint: Think about what ages make sense. How old is the Universe? How old is the Sun? \n",
    "\n",
    "Hint 2: These stars are within the Milky Way, so you can narrow down the maximum distance. The closest stars are 1pc away. \n",
    "\n",
    "Once you find what you think is the best fitting isochrone, compare with your neighbors! What age and distance did you get? How did that compare to your neighbor? If they are different, why do you think that is?"
   ]
  },
  {
   "cell_type": "code",
   "execution_count": null,
   "metadata": {
    "collapsed": false,
    "jupyter": {
     "outputs_hidden": false
    },
    "tags": []
   },
   "outputs": [],
   "source": [
    "test_time()\n",
    "\n",
    "ax = show_cluster_data(**cluster_cuts)\n",
    "\n",
    "show_isochrone(\n",
    "    age = 1, \n",
    "    distance = 400,\n",
    "    ax = ax,\n",
    "    color = 'red' # or whatever your favorite color is...\n",
    ")\n",
    "ax.invert_yaxis()"
   ]
  },
  {
   "cell_type": "code",
   "execution_count": null,
   "metadata": {},
   "outputs": [],
   "source": []
  }
 ],
 "metadata": {
  "kernelspec": {
   "display_name": "Python 3 (ipykernel)",
   "language": "python",
   "name": "python3"
  },
  "language_info": {
   "codemirror_mode": {
    "name": "ipython",
    "version": 3
   },
   "file_extension": ".py",
   "mimetype": "text/x-python",
   "name": "python",
   "nbconvert_exporter": "python",
   "pygments_lexer": "ipython3",
   "version": "3.11.4"
  },
  "name": "color-magnitude-diagram-activity.ipynb"
 },
 "nbformat": 4,
 "nbformat_minor": 4
}

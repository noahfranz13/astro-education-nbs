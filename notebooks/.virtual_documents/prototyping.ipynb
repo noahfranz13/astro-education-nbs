# download the data from the github repo

# some useful code
!wget https://raw.githubusercontent.com/noahfranz13/astro-education-nbs/refs/heads/main/notebooks/util.py

# the Gaia data
!wget https://raw.githubusercontent.com/noahfranz13/astro-education-nbs/refs/heads/main/data/gaia_cone_search_results.csv

# the isochrone data
!wget https://github.com/noahfranz13/astro-education-nbs/raw/refs/heads/main/isochrones.zip
!unzip isochrones.zip


import os
import matplotlib.pyplot as plt
import numpy as np 
import pandas as pd
from astropy.coordinates import SkyCoord
from astropy import units as u
from matplotlib.patches import Ellipse, Rectangle




















#idea for an interface to set labels -- use dicts so that things are clear
#we then process them in the background
labels = {
    "upper-left":   "label1",
    "upper-right":  "label2", 
    "lower-left":   "label3", 
    "lower-right":  "label4"
    }

labels1 = {
    "upper-left":   "bluer, brighter",
    "upper-right":  "redder, brighter", 
    "lower-left":   "bluer, dimmer", 
    "lower-right":  "redder, dimmer"
    }

labels2 = {
    "upper-left":   "hotter, higher mass",
    "upper-right":  "colder, higher mass", 
    "lower-left":   "hotter, lower mass", 
    "lower-right":  "colder, lower mass"
    }




def plot_labels_cmd(labels):
    fig  = plt.figure()
    plt.xlabel('B-V')
    plt.ylabel('B [mag]')
    plt.xlim([-4,4])
    plt.ylim([8,20])

    for k, v in labels.items():
        if k == 'upper-left':
            plt.text(0.2, 0.8, v, transform=fig.transFigure)
        elif k == 'upper-right':
            plt.text(0.7, 0.8, v, transform=fig.transFigure)
        elif k == 'lower-left':
            plt.text(0.2, 0.2, v, transform=fig.transFigure)
        elif k == 'lower-right':
            plt.text(0.7, 0.2, v, transform=fig.transFigure)


    plt.show()
    plt.close()

def plot_labels_physical(labels):
    fig  = plt.figure()
    plt.xlabel('B-V')
    plt.ylabel('B [mag]')
    plt.xlim([-4,4])
    plt.ylim([8,20])

    for k, v in labels.items():
        if k == 'upper-left':
            plt.text(0.2, 0.8, v, transform=fig.transFigure)
        elif k == 'upper-right':
            plt.text(0.65, 0.8, v, transform=fig.transFigure)
        elif k == 'lower-left':
            plt.text(0.2, 0.2, v, transform=fig.transFigure)
        elif k == 'lower-right':
            plt.text(0.65, 0.2, v, transform=fig.transFigure)


    plt.show()
    plt.close()


def plot_labels_stars(labels):
    fig  = plt.figure()
    plt.xlabel('B-V')
    plt.ylabel('B [mag]')
    plt.xlim([-4,4])
    plt.ylim([8,20])

    for k, v in labels.items():
        if k == 'upper-left':
            plt.text(0.2, 0.8, v, transform=fig.transFigure)
        elif k == 'upper-right':
            plt.text(0.65, 0.8, v, transform=fig.transFigure)
        elif k == 'lower-left':
            plt.text(0.2, 0.2, v, transform=fig.transFigure)
        elif k == 'lower-right':
            plt.text(0.65, 0.2, v, transform=fig.transFigure)


    plt.show()
    plt.close()


plot_labels_cmd(labels1)

plot_labels_physical(labels2)


fig, ax = plt.subplots()

ax.set_xlabel('B-V')
ax.set_ylabel('B [mag]')
ax.set_xlim([-4,4])
ax.set_ylim([8,20])

ms_ellipse = Ellipse(xy=(0, 13), width=2, height=7, angle=30, fc='none', ec='r')
ax.add_artist(ms_ellipse)

asb_ellipse = Ellipse(xy=(2, 18), width=2, height=2, angle=0, fc='none', ec='blue')
ax.add_artist(asb_ellipse)

wd_ellipse = Ellipse(xy=(-3, 10), width=1, height=2, angle=0, fc='none', ec='green')
ax.add_artist(wd_ellipse)

def label_turnoff(x,y):
    plt.text(x+1.1, y+0.6, 'turnoff')
    plt.plot([x,x+1], [y,y+0.5], 'k-')


label_turnoff(-1.5,17)

plt.show()












from util import read_isochrone_files

isochrones = read_isochrone_files('../isochrones')


print(isochrones[0]['age'])


def cluster_filter(
        cone_search_radius:float=2,
        minimum_radial_velocity:float=34-13.6, #km/s
        maximum_radial_velocity:float=34+13.6, #km/s
        minimum_parallax:float=1.15-0.12, 
        maximum_parallax:float=1.15+0.12,
        proper_motion_delta:float=0.7,
        proper_motion_ra:float=-11,
        proper_motion_dec:float=-2.9,
        overwrite=False,
        gaia_result_path="../data/gaia_cone_search_results.csv"
    ) -> pd.DataFrame:

    cluster_coord = SkyCoord(132.85, 11.81, unit=u.deg)
    cluster_radius = 2 * u.deg
        
    if not os.path.exists(gaia_result_path) or overwrite:
        from astroquery.gaia import Gaia
        Gaia.ROW_LIMIT = 100_000_000 # set this limit very high so we don't miss things
        print("Querying Gaia, this may take a bit...")
        
        job = Gaia.cone_search(cluster_coord, radius=cluster_radius)
        res = job.get_results().to_pandas()
        print(res)
 
        res.to_csv(gaia_result_path)

    else:
        res = pd.read_csv(gaia_result_path)
    
    # cone search cut
    res_coord = SkyCoord(res.ra, res.dec, unit="deg")
    where_cluster = np.where(res_coord.separation(cluster_coord) < (cone_search_radius*u.deg))
    res = res.iloc[where_cluster]
    
    # radial velocity cut
    res = res[(res.radial_velocity > minimum_radial_velocity) * (res.radial_velocity < maximum_radial_velocity)]
    
    # parallax cut
    res = res[(res.parallax > minimum_parallax) * (res.parallax < maximum_parallax)]
    
    # proper motion cut
    dmu = proper_motion_delta # mas yr^-1; same units as gaia uses
    mu = np.array([proper_motion_ra, proper_motion_dec]) # mas yr^-1; same units as gaia uses
    
    proper_motion_distance = np.sqrt(np.sum((res[["pmra", "pmdec"]] - mu)**2, axis=1))
    res = res[proper_motion_distance <= dmu]
    
    if overwrite:
        res.to_csv("cleaned-M67-data.csv")

    return res



fig, ax = plt.subplots()

ax.set_xlabel('G-R')
ax.set_ylabel('G [mag]')

ax.set_xlim(0,1.5)
ax.set_ylim(-4,15)

def label_turnoff(x,y,label,color='red'):
    ax.text(x+0.2, y+0.3, label)
    ax.plot([x,x+0.2], [y,y+0.3], 'k-')
    ms_ellipse = Ellipse(xy=(x, y), width=0.2, height=2.5, angle=0, fc='none', ec=color)
    ax.add_artist(ms_ellipse)


label_turnoff(0.3,5,'turnoff', color='black')
label_turnoff(0.7,0,'MS', color='red')
label_turnoff(1,10,'AGB', color='blue')
label_turnoff(0.1,-2,'WD', color='blue')

ax.plot(isochrones[-1]['g'].astype(float)-isochrones[-1]['r'].astype(float), isochrones[-1]['g'].astype(float))

plt.show()





fig, ax = plt.subplots()

ax.set_xlabel('G-R')
ax.set_ylabel('G [mag]')

ax.set_xlim(0,1.5)
ax.set_ylim(10,15)

def label_turnoff(x,y,label,color='red', width=0.2, height=2.5, **kwargs):
    ax.text(x+0.2, y+0.3, label)
    ax.plot([x,x+0.2], [y,y+0.3], 'k-')
    ms_ellipse = Ellipse(xy=(x, y), fc='none', width=width, height=height, ec=color, **kwargs)
    ax.add_artist(ms_ellipse)


label_turnoff(0.75,12.4,'turnoff', width=0.1, height=0.8,color='black')
label_turnoff(0.75,13.5,'MS', color='red', angle=-10)
label_turnoff(1.2,11.5,'RGB', angle=5, color='blue')
label_turnoff(0.8,10.5,'AGB', width=1, height=1, angle=0, color='blue')
label_turnoff(0.1,14.5,'WD', color='blue')

res = cluster_filter()
ax.plot(
    res.phot_bp_mean_mag - res.phot_rp_mean_mag , 
    res.phot_g_mean_mag, 
    marker='.',
    linestyle='none',
    color='k'
)

ax.invert_yaxis()

plt.show()




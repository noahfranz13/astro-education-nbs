{
 "cells": [
  {
   "cell_type": "code",
   "execution_count": 2,
   "metadata": {},
   "outputs": [],
   "source": [
    "import matplotlib.pyplot as plt\n",
    "import numpy as np "
   ]
  },
  {
   "cell_type": "markdown",
   "metadata": {},
   "source": [
    "# CMD Session Rough Layout\n",
    "J. Isbell - 21 Nov 2024\n"
   ]
  },
  {
   "cell_type": "markdown",
   "metadata": {},
   "source": [
    "---"
   ]
  },
  {
   "cell_type": "markdown",
   "metadata": {},
   "source": [
    "# Key things to include (not necessarily in this order)\n"
   ]
  },
  {
   "cell_type": "markdown",
   "metadata": {},
   "source": [
    "## 1. Data loading\n",
    "- Individual images loading and plotting\n",
    "- Construct the color index image\n",
    "- How to extract the stars.... \n",
    "- Interactive \"radius\" \n",
    "\n",
    "## 2. Plot a CMD\n",
    "- Given color index and magnitude, plot in general \n",
    "- Make interface to change limits, labels\n",
    "\n",
    "## 3. Distance modulus\n",
    "- Latex markup of the equation\n",
    "- Think about how it scales an isochrone\n",
    "\n",
    "## 4. Isochrones\n",
    "- Get a library of pre-computed isochrones at different ages (in abs mag) and metallicities\n",
    "- The distance is then used to get to apparent mag (at first by us and then by the students)\n",
    "- Plot range of isochrones\n",
    "- Think about how to have students match isochrones to the data (chi-by-eye but with reasonable guard rails)\n",
    "\n",
    "## 5. Boss fight!!! "
   ]
  },
  {
   "cell_type": "markdown",
   "metadata": {},
   "source": [
    "---\n",
    "\n",
    "# 1. Data Loading (more specific)\n",
    "\n",
    "1. We explain (briefly) the data set and where it comes from \n",
    "\n",
    "2. Give them image one and image two, have them assign which belongs to which filter \n",
    "\n",
    "3. Display the images (why are they black and white???) -- we should decide on a good scaling and display limits (vmin, vmax) since the dynamic range of the images is likely high\n",
    "    - probably don't use viridis, black and white is clearer at first \n",
    "\n",
    "4. Interface to put in the properly labeled images to get color index \n",
    "    - possibly also a dictionary \n",
    "    - images = {'blue_filter':image1, 'green_filter': image2}\n",
    "\n",
    "5. Display color index (coolwarm???)\n",
    "    - need to show negative values clearly\n",
    "    - coolwarm might hint at the temperature connection \n",
    "\n",
    "6. Extract the stars (either in the background or make them do it interactively -- perhaps also at a later stage)\n",
    "\n",
    "\n",
    "\n",
    "\n",
    "Which cut is the most important? We guessed parallax "
   ]
  },
  {
   "cell_type": "markdown",
   "metadata": {},
   "source": [
    "---\n",
    "# 2. CMD Display and Interaction\n",
    "\n",
    "1. Plot a messy CMD with the wrong (default?) limits\n",
    "2. Identify outliers, think about what they are (bad pixels, galaxies, foreground stars, etc.)\n",
    "3. Nice interface to change limits (the matplotlib interface is basically clear enough, but we can abstract it one layer)\n",
    "4. Nice interface to add labels (see below -- dicts are maybe best)\n",
    "    - could also use dropdowns, but these are functionally equivalent and the point is to expose to some code interaction"
   ]
  },
  {
   "cell_type": "code",
   "execution_count": 37,
   "metadata": {},
   "outputs": [],
   "source": [
    "#idea for an interface to set labels -- use dicts so that things are clear\n",
    "#we then process them in the background\n",
    "labels = {\n",
    "    \"upper-left\":   \"label1\",\n",
    "    \"upper-right\":  \"label2\", \n",
    "    \"lower-left\":   \"label3\", \n",
    "    \"lower-right\":  \"label4\"\n",
    "    }\n",
    "\n",
    "labels1 = {\n",
    "    \"upper-left\":   \"bluer, brighter\",\n",
    "    \"upper-right\":  \"redder, brighter\", \n",
    "    \"lower-left\":   \"bluer, dimmer\", \n",
    "    \"lower-right\":  \"redder, dimmer\"\n",
    "    }\n",
    "\n",
    "labels2 = {\n",
    "    \"upper-left\":   \"hotter, higher mass\",\n",
    "    \"upper-right\":  \"colder, higher mass\", \n",
    "    \"lower-left\":   \"hotter, lower mass\", \n",
    "    \"lower-right\":  \"colder, lower mass\"\n",
    "    }\n",
    "\n"
   ]
  },
  {
   "cell_type": "code",
   "execution_count": 38,
   "metadata": {},
   "outputs": [],
   "source": [
    "def plot_labels_cmd(labels):\n",
    "    fig  = plt.figure()\n",
    "    plt.xlabel('B-V')\n",
    "    plt.ylabel('B [mag]')\n",
    "    plt.xlim([-4,4])\n",
    "    plt.ylim([8,20])\n",
    "\n",
    "    for k, v in labels.items():\n",
    "        if k == 'upper-left':\n",
    "            plt.text(0.2, 0.8, v, transform=fig.transFigure)\n",
    "        elif k == 'upper-right':\n",
    "            plt.text(0.7, 0.8, v, transform=fig.transFigure)\n",
    "        elif k == 'lower-left':\n",
    "            plt.text(0.2, 0.2, v, transform=fig.transFigure)\n",
    "        elif k == 'lower-right':\n",
    "            plt.text(0.7, 0.2, v, transform=fig.transFigure)\n",
    "\n",
    "\n",
    "    plt.show()\n",
    "\n",
    "def plot_labels_physical(labels):\n",
    "    fig  = plt.figure()\n",
    "    plt.xlabel('B-V')\n",
    "    plt.ylabel('B [mag]')\n",
    "    plt.xlim([-4,4])\n",
    "    plt.ylim([8,20])\n",
    "\n",
    "    for k, v in labels.items():\n",
    "        if k == 'upper-left':\n",
    "            plt.text(0.2, 0.8, v, transform=fig.transFigure)\n",
    "        elif k == 'upper-right':\n",
    "            plt.text(0.65, 0.8, v, transform=fig.transFigure)\n",
    "        elif k == 'lower-left':\n",
    "            plt.text(0.2, 0.2, v, transform=fig.transFigure)\n",
    "        elif k == 'lower-right':\n",
    "            plt.text(0.65, 0.2, v, transform=fig.transFigure)\n",
    "\n",
    "\n",
    "    plt.show()\n",
    "\n",
    "\n",
    "def plot_labels_stars(labels):\n",
    "    fig  = plt.figure()\n",
    "    plt.xlabel('B-V')\n",
    "    plt.ylabel('B [mag]')\n",
    "    plt.xlim([-4,4])\n",
    "    plt.ylim([8,20])\n",
    "\n",
    "    for k, v in labels.items():\n",
    "        if k == 'upper-left':\n",
    "            plt.text(0.2, 0.8, v, transform=fig.transFigure)\n",
    "        elif k == 'upper-right':\n",
    "            plt.text(0.65, 0.8, v, transform=fig.transFigure)\n",
    "        elif k == 'lower-left':\n",
    "            plt.text(0.2, 0.2, v, transform=fig.transFigure)\n",
    "        elif k == 'lower-right':\n",
    "            plt.text(0.65, 0.2, v, transform=fig.transFigure)\n",
    "\n",
    "\n",
    "    plt.show()"
   ]
  },
  {
   "cell_type": "code",
   "execution_count": 39,
   "metadata": {},
   "outputs": [
    {
     "data": {
      "image/png": "[encoded data removed]",
      "text/plain": [
       "<Figure size 640x480 with 1 Axes>"
      ]
     },
     "metadata": {},
     "output_type": "display_data"
    },
    {
     "data": {
      "image/png": "[encoded data removed]",
      "text/plain": [
       "<Figure size 640x480 with 1 Axes>"
      ]
     },
     "metadata": {},
     "output_type": "display_data"
    }
   ],
   "source": [
    "plot_labels_cmd(labels1)\n",
    "\n",
    "plot_labels_physical(labels2)"
   ]
  },
  {
   "cell_type": "markdown",
   "metadata": {},
   "source": [
    "---\n",
    "# 3. Distance Modulus\n",
    "\n",
    "1. Latex markup for reminder \n",
    "    - $m-M = 5 \\log_{10}(\\frac{d}{10 pc})$\n",
    "\n",
    "\n",
    "2. Think of how we want them to interact with a function \n",
    "    - emphasize that it's really no different than plugging in on pen and paper \n",
    "3. Function to apply a distance mod to an isochrone should be well abstracted"
   ]
  },
  {
   "cell_type": "markdown",
   "metadata": {},
   "source": [
    "--- \n",
    "# 4. Isochrones\n",
    "\n",
    "1. Libarary of pre-computed models for different ages and metallicities\n",
    "    - maybe [https://waps.cfa.harvard.edu/MIST/model_grids.html](https://waps.cfa.harvard.edu/MIST/model_grids.html)\n",
    "2. Functions to change them by distance \n",
    "3. Interactive element to have them scale/change the values \n",
    "    - start with sliders and then move into code entering???\n",
    "    - display a range of values to guide some guesswork \n",
    "4. Ask which isochrones work best and why? \n",
    "    - can we find an example where there's some degeneracy? \n",
    "\n"
   ]
  },
  {
   "cell_type": "markdown",
   "metadata": {},
   "source": []
  }
 ],
 "metadata": {
  "kernelspec": {
   "display_name": "Python 3",
   "language": "python",
   "name": "python3"
  },
  "language_info": {
   "codemirror_mode": {
    "name": "ipython",
    "version": 3
   },
   "file_extension": ".py",
   "mimetype": "text/x-python",
   "name": "python",
   "nbconvert_exporter": "python",
   "pygments_lexer": "ipython3",
   "version": "3.12.1"
  }
 },
 "nbformat": 4,
 "nbformat_minor": 2
}
